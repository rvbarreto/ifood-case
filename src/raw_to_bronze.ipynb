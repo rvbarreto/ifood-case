{
 "cells": [
  {
   "cell_type": "code",
   "execution_count": 0,
   "metadata": {
    "application/vnd.databricks.v1+cell": {
     "cellMetadata": {
      "byteLimit": 2048000,
      "rowLimit": 10000
     },
     "inputWidgets": {},
     "nuid": "61ae7d51-b486-470d-9608-1ecde3c674da",
     "showTitle": false,
     "tableResultSettingsMap": {},
     "title": ""
    }
   },
   "outputs": [],
   "source": [
    "import pyspark.sql.functions as F"
   ]
  },
  {
   "cell_type": "code",
   "execution_count": 0,
   "metadata": {
    "application/vnd.databricks.v1+cell": {
     "cellMetadata": {
      "byteLimit": 2048000,
      "rowLimit": 10000
     },
     "inputWidgets": {},
     "nuid": "6f416367-05e0-42df-918e-0c81f016aec1",
     "showTitle": false,
     "tableResultSettingsMap": {},
     "title": ""
    }
   },
   "outputs": [],
   "source": [
    "dbutils.widgets.text(\"dataset_prefix\", \"\")\n",
    "dbutils.widgets.text(\"month\", \"\")"
   ]
  },
  {
   "cell_type": "code",
   "execution_count": 0,
   "metadata": {
    "application/vnd.databricks.v1+cell": {
     "cellMetadata": {
      "byteLimit": 2048000,
      "rowLimit": 10000
     },
     "inputWidgets": {},
     "nuid": "5d85e42d-bd5a-4962-ac0a-e90079e7a0b9",
     "showTitle": false,
     "tableResultSettingsMap": {},
     "title": ""
    }
   },
   "outputs": [],
   "source": [
    "s3_base = \"s3a://ifood-case-open/raw/tlc\"\n",
    "dataset_prefix = dbutils.widgets.get(\"dataset_prefix\") #\"yellow_tripdata\"\n",
    "month = dbutils.widgets.get(\"month\") # \"YYYY-MM\"\n",
    "target_table = f\"workspace.ifood_bronze.{dataset_prefix}\""
   ]
  },
  {
   "cell_type": "code",
   "execution_count": 0,
   "metadata": {
    "application/vnd.databricks.v1+cell": {
     "cellMetadata": {
      "byteLimit": 2048000,
      "rowLimit": 10000
     },
     "inputWidgets": {},
     "nuid": "d38c0317-c69b-4ff4-a1ae-865f5a18ac13",
     "showTitle": false,
     "tableResultSettingsMap": {},
     "title": ""
    }
   },
   "outputs": [],
   "source": [
    "current_bronze = spark.read.table(target_table)\n",
    "if current_bronze.where(F.col(\"source_month\") == month).count() > 0:\n",
    "    raise Exception(f\"Data already loaded for {month}\")"
   ]
  },
  {
   "cell_type": "code",
   "execution_count": 0,
   "metadata": {
    "application/vnd.databricks.v1+cell": {
     "cellMetadata": {
      "byteLimit": 2048000,
      "rowLimit": 10000
     },
     "inputWidgets": {},
     "nuid": "244e5246-a179-4c36-b548-e7c7ab9e1966",
     "showTitle": false,
     "tableResultSettingsMap": {},
     "title": ""
    }
   },
   "outputs": [],
   "source": [
    "path = f\"{s3_base}/{dataset_prefix}_{month}.parquet\"\n",
    "df_raw = spark.read.parquet(path)"
   ]
  },
  {
   "cell_type": "code",
   "execution_count": 0,
   "metadata": {
    "application/vnd.databricks.v1+cell": {
     "cellMetadata": {
      "byteLimit": 2048000,
      "rowLimit": 10000
     },
     "inputWidgets": {},
     "nuid": "a8f7eefc-578e-463b-b5a6-f1e6e8ca57ba",
     "showTitle": false,
     "tableResultSettingsMap": {},
     "title": ""
    }
   },
   "outputs": [],
   "source": [
    "df_cast = (df_raw\n",
    "    .withColumn(\"VendorID\",        F.col(\"VendorID\").cast(\"int\"))\n",
    "    .withColumn(\"passenger_count\", F.col(\"passenger_count\").cast(\"int\"))\n",
    "    .withColumn(\"RatecodeID\",      F.col(\"RatecodeID\").cast(\"int\"))\n",
    "    .withColumn(\"PULocationID\",    F.col(\"PULocationID\").cast(\"int\"))\n",
    "    .withColumn(\"DOLocationID\",    F.col(\"DOLocationID\").cast(\"int\"))\n",
    "    .withColumn(\"payment_type\",    F.col(\"payment_type\").cast(\"int\"))\n",
    "    .withColumn(\"tpep_pickup_datetime\",  F.col(\"tpep_pickup_datetime\").cast(\"timestamp\"))\n",
    "    .withColumn(\"tpep_dropoff_datetime\", F.col(\"tpep_dropoff_datetime\").cast(\"timestamp\"))\n",
    ")\n",
    "\n",
    "if \"airport_fee\" in df_raw.columns:\n",
    "    df_cast = df_cast.withColumnRenamed(\"airport_fee\", \"Airport_fee\")\n"
   ]
  },
  {
   "cell_type": "code",
   "execution_count": 0,
   "metadata": {
    "application/vnd.databricks.v1+cell": {
     "cellMetadata": {
      "byteLimit": 2048000,
      "rowLimit": 10000
     },
     "inputWidgets": {},
     "nuid": "f902270d-556f-49d5-a553-693ed1e1968f",
     "showTitle": false,
     "tableResultSettingsMap": {},
     "title": ""
    }
   },
   "outputs": [],
   "source": [
    "df_bronze = (df_cast\n",
    "             .withColumn(\"source_prefix\", F.lit(dataset_prefix))\n",
    "             .withColumn(\"source_month\", F.lit(month))\n",
    ")"
   ]
  },
  {
   "cell_type": "code",
   "execution_count": 0,
   "metadata": {
    "application/vnd.databricks.v1+cell": {
     "cellMetadata": {
      "byteLimit": 2048000,
      "rowLimit": 10000
     },
     "inputWidgets": {},
     "nuid": "b60a6180-0c49-477f-a398-c70b9c109f87",
     "showTitle": false,
     "tableResultSettingsMap": {},
     "title": ""
    }
   },
   "outputs": [],
   "source": [
    "df_bronze.write.format(\"delta\").mode(\"append\").saveAsTable(target_table)"
   ]
  }
 ],
 "metadata": {
  "application/vnd.databricks.v1+notebook": {
   "computePreferences": null,
   "dashboards": [],
   "environmentMetadata": {
    "base_environment": "",
    "environment_version": "3"
   },
   "inputWidgetPreferences": null,
   "language": "python",
   "notebookMetadata": {
    "pythonIndentUnit": 4
   },
   "notebookName": "raw_to_bronze",
   "widgets": {
    "dataset_prefix": {
     "currentValue": "yellow_tripdata",
     "nuid": "c3a36613-13a9-4733-a7c3-e67c6819440a",
     "typedWidgetInfo": {
      "autoCreated": false,
      "defaultValue": "",
      "label": null,
      "name": "dataset_prefix",
      "options": {
       "widgetDisplayType": "Text",
       "validationRegex": null
      },
      "parameterDataType": "String"
     },
     "widgetInfo": {
      "widgetType": "text",
      "defaultValue": "",
      "label": null,
      "name": "dataset_prefix",
      "options": {
       "widgetType": "text",
       "autoCreated": null,
       "validationRegex": null
      }
     }
    },
    "month": {
     "currentValue": "2023-02",
     "nuid": "2225646e-f77f-4798-8f2a-d1e452f152e0",
     "typedWidgetInfo": {
      "autoCreated": false,
      "defaultValue": "",
      "label": null,
      "name": "month",
      "options": {
       "widgetDisplayType": "Text",
       "validationRegex": null
      },
      "parameterDataType": "String"
     },
     "widgetInfo": {
      "widgetType": "text",
      "defaultValue": "",
      "label": null,
      "name": "month",
      "options": {
       "widgetType": "text",
       "autoCreated": null,
       "validationRegex": null
      }
     }
    }
   }
  },
  "language_info": {
   "name": "python"
  }
 },
 "nbformat": 4,
 "nbformat_minor": 0
}
