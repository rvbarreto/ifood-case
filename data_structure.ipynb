{
 "cells": [
  {
   "cell_type": "markdown",
   "metadata": {
    "application/vnd.databricks.v1+cell": {
     "cellMetadata": {},
     "inputWidgets": {},
     "nuid": "56d22aa3-4501-461c-be3a-f05b225f02d0",
     "showTitle": false,
     "tableResultSettingsMap": {},
     "title": ""
    }
   },
   "source": [
    "# bronze tables"
   ]
  },
  {
   "cell_type": "code",
   "execution_count": 0,
   "metadata": {
    "application/vnd.databricks.v1+cell": {
     "cellMetadata": {
      "byteLimit": 2048000,
      "implicitDf": true,
      "rowLimit": 10000
     },
     "inputWidgets": {},
     "nuid": "83175001-a6e2-4e93-b987-2a108f4023a7",
     "showTitle": false,
     "tableResultSettingsMap": {},
     "title": ""
    }
   },
   "outputs": [],
   "source": [
    "%sql\n",
    "CREATE SCHEMA IF NOT EXISTS ifood_bronze;"
   ]
  },
  {
   "cell_type": "code",
   "execution_count": 0,
   "metadata": {
    "application/vnd.databricks.v1+cell": {
     "cellMetadata": {
      "byteLimit": 2048000,
      "implicitDf": true,
      "rowLimit": 10000
     },
     "inputWidgets": {},
     "nuid": "3607a91f-29b0-4d75-b94a-5ec77980e502",
     "showTitle": false,
     "tableResultSettingsMap": {},
     "title": ""
    }
   },
   "outputs": [],
   "source": [
    "%sql\n",
    "CREATE TABLE IF NOT EXISTS ifood_bronze.yellow_tripdata (\n",
    "  VendorID                 INT,\n",
    "  tpep_pickup_datetime     TIMESTAMP,\n",
    "  tpep_dropoff_datetime    TIMESTAMP,\n",
    "  passenger_count          INT,\n",
    "  trip_distance            DOUBLE,\n",
    "  RatecodeID               INT,\n",
    "  store_and_fwd_flag       STRING,\n",
    "  PULocationID             INT,\n",
    "  DOLocationID             INT,\n",
    "  payment_type             INT,\n",
    "  fare_amount              DOUBLE,\n",
    "  extra                    DOUBLE,\n",
    "  mta_tax                  DOUBLE,\n",
    "  tip_amount               DOUBLE,\n",
    "  tolls_amount             DOUBLE,\n",
    "  improvement_surcharge    DOUBLE,\n",
    "  total_amount             DOUBLE,\n",
    "  congestion_surcharge     DOUBLE,\n",
    "  Airport_fee              DOUBLE,\n",
    "  source_prefix            STRING,\n",
    "  source_month             STRING\n",
    ") USING DELTA;"
   ]
  }
 ],
 "metadata": {
  "application/vnd.databricks.v1+notebook": {
   "computePreferences": null,
   "dashboards": [],
   "environmentMetadata": {
    "base_environment": "",
    "environment_version": "3"
   },
   "inputWidgetPreferences": null,
   "language": "python",
   "notebookMetadata": {
    "mostRecentlyExecutedCommandWithImplicitDF": {
     "commandId": 6023679285010975,
     "dataframes": [
      "_sqldf"
     ]
    },
    "pythonIndentUnit": 4
   },
   "notebookName": "data_structure",
   "widgets": {}
  },
  "language_info": {
   "name": "python"
  }
 },
 "nbformat": 4,
 "nbformat_minor": 0
}
